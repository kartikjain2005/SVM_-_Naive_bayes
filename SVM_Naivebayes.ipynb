{
  "nbformat": 4,
  "nbformat_minor": 0,
  "metadata": {
    "colab": {
      "provenance": []
    },
    "kernelspec": {
      "name": "python3",
      "display_name": "Python 3"
    },
    "language_info": {
      "name": "python"
    }
  },
  "cells": [
    {
      "cell_type": "markdown",
      "source": [
        "**1. What is a Support Vector Machine (SVM) ?**\n",
        " - SVM tries to find the best line (in 2D) or hyperplane (in higher dimensions) that separates data points of different classes with the maximum margin.\n",
        "\n",
        "That’s why it’s called a “maximum margin classifier.”"
      ],
      "metadata": {
        "id": "tK8XaprR1YfQ"
      }
    },
    {
      "cell_type": "markdown",
      "source": [
        "**2. What is the difference between Hard Margin and Soft Margin SVM ?**\n",
        "| **Feature**                      | **Hard Margin SVM**                                                                                    | **Soft Margin SVM**                                                                             |\n",
        "| -------------------------------- | ------------------------------------------------------------------------------------------------------ | ----------------------------------------------------------------------------------------------- |\n",
        "| **Definition**                   | Tries to find a hyperplane that **perfectly separates** all data points without any misclassification. | Allows **some misclassification** to achieve a better balance between margin size and accuracy. |\n",
        "| **Data Type**                    | Works only when data is **perfectly linearly separable**.                                              | Works even when data is **not perfectly separable** or contains **noise/outliers**.             |\n",
        "| **Slack Variables (ξ)**          | **Not used** — no violations allowed.                                                                  | **Used** to measure margin violations (how much a point is misclassified).                      |\n",
        "| **Regularization Parameter (C)** | **Not used.**                                                                                          | **Used** — controls trade-off between maximizing margin and minimizing classification error.    |\n",
        "| **Flexibility**                  | **Rigid** — doesn’t tolerate any error.                                                                | **Flexible** — tolerates small errors to improve generalization.                                |\n",
        "| **Effect of Outliers**           | Highly sensitive — a single outlier can break the margin.                                              | Less sensitive — outliers can be handled by tuning **C**.                                       |\n",
        "| **Margin Type**                  | **Hard (strict)** margin.                                                                              | **Soft (relaxed)** margin.                                                                      |\n",
        "| **Generalization**               | May **overfit** when noise or outliers exist.                                                          | Usually gives **better generalization** on real-world data.                                     |\n"
      ],
      "metadata": {
        "id": "zlb4i98m1uA0"
      }
    },
    {
      "cell_type": "markdown",
      "source": [
        "**3. What is the mathematical intuition behind SVM ?**\n",
        "SVM tries to find a hyperplane (a line in 2D, a plane in 3D, etc.) that:\n",
        "\n",
        "Separates the data into different classes\n",
        "\n",
        "With the maximum possible margin\n",
        "\n",
        "The margin = the distance between the hyperplane and the nearest data points from each class (called support vectors).\n",
        "\n",
        "⚙️ Mathematical Formulation\n",
        "1️⃣ Equation of the Hyperplane\n",
        "\n",
        "For binary classification:\n",
        "\n",
        "𝑤\n",
        "⋅\n",
        "𝑥\n",
        "+\n",
        "𝑏\n",
        "=\n",
        "0\n",
        "w⋅x+b=0\n",
        "\n",
        "where:\n",
        "\n",
        "𝑤\n",
        "w → weight vector (defines orientation)\n",
        "\n",
        "𝑏\n",
        "b → bias (defines position)\n",
        "\n",
        "𝑥\n",
        "x → feature vector\n",
        "\n",
        "2️⃣ Conditions for Perfect Separation\n",
        "\n",
        "We want:\n",
        "\n",
        "𝑤\n",
        "⋅\n",
        "𝑥\n",
        "𝑖\n",
        "+\n",
        "𝑏\n",
        "≥\n",
        "+\n",
        "1\n",
        "for\n",
        "𝑦\n",
        "𝑖\n",
        "=\n",
        "+\n",
        "1\n",
        "w⋅x\n",
        "i\n",
        "\t​\n",
        "\n",
        "+b≥+1for y\n",
        "i\n",
        "\t​\n",
        "\n",
        "=+1\n",
        "𝑤\n",
        "⋅\n",
        "𝑥\n",
        "𝑖\n",
        "+\n",
        "𝑏\n",
        "≤\n",
        "−\n",
        "1\n",
        "for\n",
        "𝑦\n",
        "𝑖\n",
        "=\n",
        "−\n",
        "1\n",
        "w⋅x\n",
        "i\n",
        "\t​\n",
        "\n",
        "+b≤−1for y\n",
        "i\n",
        "\t​\n",
        "\n",
        "=−1\n",
        "\n",
        "Combine both:\n",
        "\n",
        "𝑦\n",
        "𝑖\n",
        "(\n",
        "𝑤\n",
        "⋅\n",
        "𝑥\n",
        "𝑖\n",
        "+\n",
        "𝑏\n",
        ")\n",
        "≥\n",
        "1\n",
        "∀\n",
        "𝑖\n",
        "y\n",
        "i\n",
        "\t​\n",
        "\n",
        "(w⋅x\n",
        "i\n",
        "\t​\n",
        "\n",
        "+b)≥1∀i\n",
        "3️⃣ Margin Definition\n",
        "\n",
        "The distance from any point\n",
        "𝑥\n",
        "x to the hyperplane is:\n",
        "\n",
        "Distance\n",
        "=\n",
        "∣\n",
        "𝑤\n",
        "⋅\n",
        "𝑥\n",
        "+\n",
        "𝑏\n",
        "∣\n",
        "∣\n",
        "∣\n",
        "𝑤\n",
        "∣\n",
        "∣\n",
        "Distance=\n",
        "∣∣w∣∣\n",
        "∣w⋅x+b∣\n",
        "\t​\n",
        "\n",
        "\n",
        "For support vectors, this distance is exactly = 1 / ||w||.\n",
        "\n",
        "So, the margin width = 2 / ||w||\n",
        "\n",
        "4️⃣ Optimization Objective\n",
        "\n",
        "To maximize the margin,\n",
        "we must minimize\n",
        "∣\n",
        "∣\n",
        "𝑤\n",
        "∣\n",
        "∣\n",
        "∣∣w∣∣ (or\n",
        "1\n",
        "2\n",
        "∣\n",
        "∣\n",
        "𝑤\n",
        "∣\n",
        "∣\n",
        "2\n",
        "2\n",
        "1\n",
        "\t​\n",
        "\n",
        "∣∣w∣∣\n",
        "2\n",
        " for convenience).\n",
        "\n",
        "Minimize\n",
        "1\n",
        "2\n",
        "∣\n",
        "∣\n",
        "𝑤\n",
        "∣\n",
        "∣\n",
        "2\n",
        "Minimize\n",
        "2\n",
        "1\n",
        "\t​\n",
        "\n",
        "∣∣w∣∣\n",
        "2\n",
        "\n",
        "subject to:\n",
        "\n",
        "𝑦\n",
        "𝑖\n",
        "(\n",
        "𝑤\n",
        "⋅\n",
        "𝑥\n",
        "𝑖\n",
        "+\n",
        "𝑏\n",
        ")\n",
        "≥\n",
        "1\n",
        "y\n",
        "i\n",
        "\t​\n",
        "\n",
        "(w⋅x\n",
        "i\n",
        "\t​\n",
        "\n",
        "+b)≥1\n",
        "\n",
        "This is a convex optimization problem → guarantees a unique global minimum.\n",
        "\n",
        "5️⃣ For Soft Margin (with Slack Variables ξ)\n",
        "\n",
        "If perfect separation isn’t possible (real-world data),\n",
        "we introduce slack variables (ξi) to allow misclassification:\n",
        "\n",
        "Minimize\n",
        "1\n",
        "2\n",
        "∣\n",
        "∣\n",
        "𝑤\n",
        "∣\n",
        "∣\n",
        "2\n",
        "+\n",
        "𝐶\n",
        "∑\n",
        "𝑖\n",
        "=\n",
        "1\n",
        "𝑛\n",
        "𝜉\n",
        "𝑖\n",
        "Minimize\n",
        "2\n",
        "1\n",
        "\t​\n",
        "\n",
        "∣∣w∣∣\n",
        "2\n",
        "+C\n",
        "i=1\n",
        "∑\n",
        "n\n",
        "\t​\n",
        "\n",
        "ξ\n",
        "i\n",
        "\t​\n",
        "\n",
        "\n",
        "subject to:\n",
        "\n",
        "𝑦\n",
        "𝑖\n",
        "(\n",
        "𝑤\n",
        "⋅\n",
        "𝑥\n",
        "𝑖\n",
        "+\n",
        "𝑏\n",
        ")\n",
        "≥\n",
        "1\n",
        "−\n",
        "𝜉\n",
        "𝑖\n",
        ",\n",
        "𝜉\n",
        "𝑖\n",
        "≥\n",
        "0\n",
        "y\n",
        "i\n",
        "\t​\n",
        "\n",
        "(w⋅x\n",
        "i\n",
        "\t​\n",
        "\n",
        "+b)≥1−ξ\n",
        "i\n",
        "\t​\n",
        "\n",
        ",ξ\n",
        "i\n",
        "\t​\n",
        "\n",
        "≥0\n",
        "\n",
        "Here:\n",
        "\n",
        "𝐶\n",
        "C = penalty parameter controlling trade-off\n",
        "between margin size and misclassification tolerance.\n",
        "\n",
        "6️⃣ Dual Form (for Kernel Trick)\n",
        "\n",
        "To handle non-linear data, SVM is often expressed in dual form:\n",
        "\n",
        "Maximize\n",
        "∑\n",
        "𝑖\n",
        "𝛼\n",
        "𝑖\n",
        "−\n",
        "1\n",
        "2\n",
        "∑\n",
        "𝑖\n",
        "∑\n",
        "𝑗\n",
        "𝛼\n",
        "𝑖\n",
        "𝛼\n",
        "𝑗\n",
        "𝑦\n",
        "𝑖\n",
        "𝑦\n",
        "𝑗\n",
        "(\n",
        "𝑥\n",
        "𝑖\n",
        "⋅\n",
        "𝑥\n",
        "𝑗\n",
        ")\n",
        "\n",
        "\n",
        "subject to:\n",
        "\n",
        "∑\n",
        "𝑖\n",
        "𝛼\n",
        "𝑖\n",
        "𝑦\n",
        "𝑖\n",
        "=\n",
        "0\n",
        ",\n",
        "0\n",
        "≤\n",
        "𝛼\n",
        "𝑖\n",
        "≤\n",
        "𝐶\n",
        "i\n",
        "∑\n",
        "\t​\n",
        "\n",
        "α\n",
        "i\n",
        "\t​\n",
        "\n",
        "y\n",
        "i\n",
        "\t​\n",
        "\n",
        "=0,0≤α\n",
        "i\n",
        "\t​\n",
        "\n",
        "≤C\n",
        "\n",
        "Here,\n",
        "𝛼\n",
        "𝑖\n",
        "α\n",
        "i\n",
        "\t​\n",
        "\n",
        " are Lagrange multipliers, and the dot product\n",
        "(\n",
        "𝑥\n",
        "𝑖\n",
        "⋅\n",
        "𝑥\n",
        "𝑗\n",
        ")\n",
        "(x\n",
        "i\n",
        "\t​\n",
        "\n",
        "⋅x\n",
        "j\n",
        "\t​\n",
        "\n",
        ") can be replaced with a kernel function for non-linear separation.\n"
      ],
      "metadata": {
        "id": "29bRZ9242D7u"
      }
    },
    {
      "cell_type": "markdown",
      "source": [
        "4.  **What is the role of Lagrange Multipliers in SVM**\n",
        "\n",
        "- ##  Role of Lagrange Multipliers in SVM\n",
        "\n",
        "In Support Vector Machines (SVM), we want to **maximize the margin** between classes while satisfying the classification constraints.\n",
        "\n",
        "The optimization problem for a **Hard Margin SVM** is:\n",
        "\n",
        "\\[\n",
        "\\text{Minimize } \\frac{1}{2} ||w||^2\n",
        "\\]\n",
        "subject to:\n",
        "\\[\n",
        "y_i (w \\cdot x_i + b) \\geq 1\n",
        "\\]\n",
        "\n",
        "However, this is a **constrained optimization problem** — which means we can’t directly minimize it.  \n",
        "To solve it efficiently, we use the **Lagrange Multipliers method**.\n",
        "\n",
        "---\n",
        "\n",
        "### 🔹 Step 1: Form the Lagrangian Function\n",
        "\n",
        "We introduce one **Lagrange Multiplier (αᵢ)** for each constraint:\n",
        "\n",
        "\\[\n",
        "L(w, b, \\alpha) = \\frac{1}{2} ||w||^2 - \\sum_{i=1}^{n} \\alpha_i [y_i (w \\cdot x_i + b) - 1]\n",
        "\\]\n",
        "\n",
        "Here:\n",
        "- \\( \\alpha_i \\geq 0 \\)\n",
        "- \\( \\alpha_i \\) represents how important each training point is in defining the decision boundary.\n",
        "\n",
        "---\n",
        "\n",
        "### 🔹 Step 2: Apply the Karush-Kuhn-Tucker (KKT) Conditions\n",
        "\n",
        "We take partial derivatives of **L(w, b, α)** with respect to **w** and **b**, and set them to zero.\n",
        "\n",
        "\\[\n",
        "\\frac{\\partial L}{\\partial w} = 0 \\Rightarrow w = \\sum_i \\alpha_i y_i x_i\n",
        "\\]\n",
        "\\[\n",
        "\\frac{\\partial L}{\\partial b} = 0 \\Rightarrow \\sum_i \\alpha_i y_i = 0\n",
        "\\]\n",
        "\n",
        "By substituting these values back, we get the **Dual Form** of SVM.\n",
        "\n",
        "---\n",
        "\n",
        "### 🔹 Step 3: Dual Optimization Problem\n",
        "\n",
        "\\[\n",
        "\\text{Maximize: } W(\\alpha) = \\sum_i \\alpha_i - \\frac{1}{2} \\sum_i \\sum_j \\alpha_i \\alpha_j y_i y_j (x_i \\cdot x_j)\n",
        "\\]\n",
        "subject to:\n",
        "\\[\n",
        "\\alpha_i \\geq 0, \\quad \\sum_i \\alpha_i y_i = 0\n",
        "\\]\n",
        "\n",
        "This **dual form** is easier to solve computationally and allows the **kernel trick** for non-linear data.\n",
        "\n",
        "---\n",
        "\n",
        "### 🔹 Step 4: Role of Lagrange Multipliers (αᵢ)\n",
        "\n",
        "| **Aspect** | **Role of Lagrange Multiplier (αᵢ)** |\n",
        "|-------------|-------------------------------------|\n",
        "| **Meaning** | Determines the contribution of each data point to the final decision boundary. |\n",
        "| **Value = 0** | Point lies **outside the margin** — not a support vector. |\n",
        "| **Value > 0** | Point lies **on the margin or violates it** — becomes a **support vector**. |\n",
        "| **Interpretation** | Only data points with non-zero αᵢ affect the model → these are the **support vectors**. |\n",
        "\n",
        "\n",
        "\n"
      ],
      "metadata": {
        "id": "UCntoxCh3Gpy"
      }
    },
    {
      "cell_type": "markdown",
      "source": [
        "**What are Support Vectors in SVM?**\n",
        "\n",
        "- ## Support Vectors in SVM\n",
        "\n",
        "Support Vectors are the **data points closest to the separating hyperplane**.  \n",
        "They are the **most important samples** because they **define the margin and decision boundary** in an SVM.\n",
        "\n",
        "###  Key Points:\n",
        "- Have **non-zero Lagrange multipliers (αᵢ > 0)**  \n",
        "- **Lie on or within the margin boundaries**  \n",
        "- **Decide the optimal hyperplane position**  \n",
        "- **Points far away** don’t affect the model  \n",
        "\n",
        "### 🔹 In short:\n",
        "Support Vectors are the **critical data points** that keep the margin balanced and make SVM work.\n"
      ],
      "metadata": {
        "id": "Ad8qOs3s31-w"
      }
    },
    {
      "cell_type": "markdown",
      "source": [
        "**5. What is a Support Vector Classifier (SVC) ?**\n",
        "- Support Vector Classifier (SVC)\n",
        "\n",
        "A **Support Vector Classifier (SVC)** is the practical implementation of the **Support Vector Machine (SVM)** algorithm for **classification tasks**.\n",
        "\n",
        "It finds the **optimal hyperplane** that separates data points of different classes with the **maximum margin**.\n",
        "\n"
      ],
      "metadata": {
        "id": "7HYTIXXM39F9"
      }
    },
    {
      "cell_type": "markdown",
      "source": [
        "**6.What is a Support Vector Regressor (SVR)**\n",
        "- A **Support Vector Regressor (SVR)** is the regression version of the **Support Vector Machine (SVM)**.  \n",
        "Instead of classifying data, it predicts a **continuous value** by fitting the best possible line (or hyperplane) within a **tolerance margin**."
      ],
      "metadata": {
        "id": "fPnEKmwQ4tGU"
      }
    },
    {
      "cell_type": "markdown",
      "source": [
        "**7. What is a Support Vector Regressor (SVR)?**\n",
        "- A **Support Vector Regressor (SVR)** is a type of **Support Vector Machine (SVM)** used for **regression tasks**.  \n",
        "It tries to find a **function** that fits the data points within a **tolerance margin (ε)** while keeping the model as flat as possible."
      ],
      "metadata": {
        "id": "KFxSyE385Imb"
      }
    },
    {
      "cell_type": "markdown",
      "source": [
        "**8.What is the Kernel Trick in SVM?**\n",
        "- The **Kernel Trick** is a technique in SVM that allows it to handle **non-linearly separable data** by mapping it into a **higher-dimensional space** where it becomes **linearly separable** — without actually computing the transformation.\n"
      ],
      "metadata": {
        "id": "fbx_UirE6K69"
      }
    },
    {
      "cell_type": "markdown",
      "source": [
        "**9. Compare Linear Kernel, Polynomial Kernel, and RBF Kernel:**\n",
        "- # Comparison of Linear, Polynomial, and RBF Kernels in SVM\n",
        "\n",
        "| **Feature** | **Linear Kernel** | **Polynomial Kernel** | **RBF (Radial Basis Function) Kernel** |\n",
        "|--------------|-------------------|------------------------|----------------------------------------|\n",
        "| **Equation** | \\( K(x, x') = x \\cdot x' \\) | \\( K(x, x') = (x \\cdot x' + c)^d \\) | \\( K(x, x') = e^{-\\gamma ||x - x'||^2} \\) |\n",
        "| **Nature** | Linear | Non-linear | Non-linear |\n",
        "| **Use Case** | When data is **linearly separable** | When data has **moderate non-linearity** | When data is **highly non-linear** |\n",
        "| **Parameters** | None | Degree (d), Constant (c) | Gamma (γ) |\n",
        "| **Computation** | Fast and simple | Moderately complex | Most complex |\n",
        "| **Interpretability** | Easy to interpret | Harder as degree increases | Difficult to interpret |\n",
        "| **Overfitting Risk** | Low | Medium | High (if γ not tuned properly) |\n",
        "| **Common Usage** | Text classification, linear data | Image and pattern recognition | Most common default kernel in SVM |\n",
        "\n",
        "\n"
      ],
      "metadata": {
        "id": "WXCkQfJw6a-V"
      }
    },
    {
      "cell_type": "markdown",
      "source": [
        "**10.What is the effect of the C parameter in SVM?**\n",
        "\n",
        "- # Effect of the C Parameter in SVM\n",
        "\n",
        "The **C parameter** in SVM is a **regularization parameter** that controls the **trade-off between maximizing the margin and minimizing classification errors**.\n",
        "\n",
        "###Key Points:\n",
        "- **Small C:**  \n",
        "  - Allows a **wider margin**.  \n",
        "  - Tolerates more misclassifications.  \n",
        "  - Leads to a **simpler, more generalized model** (less overfitting).  \n",
        "\n",
        "- **Large C:**  \n",
        "  - Forces the model to **classify all points correctly**.  \n",
        "  - Creates a **narrower margin**.  \n",
        "  - May lead to **overfitting** on noisy data."
      ],
      "metadata": {
        "id": "A5uy1_mu68aU"
      }
    },
    {
      "cell_type": "markdown",
      "source": [
        "**11. What is the role of the Gamma parameter in RBF Kernel SVM**\n",
        "- # Role of the Gamma Parameter in RBF Kernel SVM\n",
        "\n",
        "The **Gamma (γ)** parameter in the **RBF Kernel** controls **how far the influence of a single training example reaches**.\n",
        "\n",
        "### Key Points:\n",
        "- **Low Gamma (γ):**  \n",
        "  - Each data point has a **large influence area**.  \n",
        "  - The decision boundary becomes **smoother**.  \n",
        "  - May lead to **underfitting**.\n",
        "\n",
        "- **High Gamma (γ):**  \n",
        "  - Each point affects only its **close neighbors**.  \n",
        "  - The decision boundary becomes **more complex**.  \n",
        "  - May lead to **overfitting**.\n"
      ],
      "metadata": {
        "id": "DAqzjA5o7Q2E"
      }
    },
    {
      "cell_type": "markdown",
      "source": [
        "**12. What is the Naïve Bayes classifier, and why is it called \"Naïve\"**\n",
        "#Naïve Bayes Classifier\n",
        "\n",
        "The **Naïve Bayes Classifier** is a **supervised machine learning algorithm** based on **Bayes’ Theorem**.  \n",
        "It is mainly used for **classification tasks**, such as spam detection, sentiment analysis, and document categorization.\n",
        "\n",
        "### Bayes’ Theorem:\n",
        "\\[\n",
        "P(A|B) = \\frac{P(B|A) \\times P(A)}{P(B)}\n",
        "\\]\n",
        "It calculates the **posterior probability** \\( P(A|B) \\) of class \\( A \\) given the feature \\( B \\).\n",
        "\n",
        "---\n",
        "\n",
        "### 🔹 Why it is called “Naïve”:\n",
        "It is called **“Naïve”** because it **assumes that all features are independent** of each other —  \n",
        "i.e., the presence of one feature does not affect another.\n",
        "\n",
        "In real-world data, this assumption is rarely true, but it still works surprisingly well in many applications.\n",
        "\n",
        "---"
      ],
      "metadata": {
        "id": "YF5SC1508Zk4"
      }
    },
    {
      "cell_type": "markdown",
      "source": [
        "**13. What is Bayes’ Theorem**\n",
        "**Bayes’ Theorem** is a fundamental concept in probability and statistics used to find the **probability of an event based on prior knowledge** of related events.\n",
        "\n",
        "###  Formula:\n",
        "\\[\n",
        "P(A|B) = \\frac{P(B|A) \\times P(A)}{P(B)}\n",
        "\\]\n",
        "\n",
        "### 🔹 Where:\n",
        "- \\( P(A|B) \\): Posterior probability — probability of event A given event B  \n",
        "- \\( P(B|A) \\): Likelihood — probability of event B given event A  \n",
        "- \\( P(A) \\): Prior probability of event A  \n",
        "- \\( P(B) \\): Evidence or total probability of event B  \n"
      ],
      "metadata": {
        "id": "j9ZB4s9j9Ijh"
      }
    },
    {
      "cell_type": "markdown",
      "source": [
        "**14. Explain the differences between Gaussian Naïve Bayes, Multinomial Naïve Bayes, and Bernoulli Naïve Bayes**\n",
        "- # Differences Between Gaussian, Multinomial, and Bernoulli Naïve Bayes\n",
        "\n",
        "| **Feature** | **Gaussian Naïve Bayes** | **Multinomial Naïve Bayes** | **Bernoulli Naïve Bayes** |\n",
        "|--------------|---------------------------|-------------------------------|----------------------------|\n",
        "| **Type of Data** | Continuous (real-valued) data | Discrete/count data | Binary (0/1) data |\n",
        "| **Distribution Assumption** | Assumes features follow a **normal (Gaussian)** distribution | Assumes features represent **frequency counts** | Assumes features are **binary (presence/absence)** |\n",
        "| **Typical Use Case** | Sensor data, continuous features (like height, weight, temperature) | Text classification using **word counts or TF-IDF** | Text classification using **binary word occurrence (yes/no)** |\n",
        "| **Probability Calculation** | Uses **mean and variance** of features | Uses **frequency of features** | Uses **probability of presence or absence** of a feature |\n",
        "| **Example Dataset** | Iris Dataset | News article classification | Sentiment analysis with binary features |\n",
        "| **Library Class (sklearn)** | `GaussianNB()` | `MultinomialNB()` | `BernoulliNB()` |\n"
      ],
      "metadata": {
        "id": "hrcFAUV19g0x"
      }
    },
    {
      "cell_type": "markdown",
      "source": [
        "**15. When should you use Gaussian Naïve Bayes over other variants**\n",
        "- #  When to Use Gaussian Naïve Bayes\n",
        "\n",
        "You should use **Gaussian Naïve Bayes** when your **features are continuous and follow a normal (bell-shaped) distribution**.\n",
        "\n",
        "### Best Situations:\n",
        "- Data has **real-valued features** like:\n",
        "  - Height, weight, temperature, age, income, etc.\n",
        "- When the relationship between features and class is approximately **Gaussian (normal)**.\n",
        "- Suitable for **sensor data**, **medical data**, or **continuous numeric datasets**.\n",
        "\n",
        "### 🔹 Example:\n",
        "Used in datasets like the **Iris dataset**, where feature values (petal length, sepal width, etc.) are continuous.\n",
        "\n"
      ],
      "metadata": {
        "id": "peC0mrpQ_ThH"
      }
    },
    {
      "cell_type": "markdown",
      "source": [
        "**16. What are the key assumptions made by Naïve Bayes?**\n",
        "- # Key Assumptions of Naïve Bayes\n",
        "\n",
        "1. **Feature Independence:**  \n",
        "   All features are assumed to be **independent** of each other given the class label.\n",
        "\n",
        "2. **Equal Importance:**  \n",
        "   Each feature contributes **equally and independently** to the final classification.\n",
        "\n",
        "3. **Class Conditional Independence:**  \n",
        "   The probability of observing all features together is the **product of individual feature probabilities** given the class.\n",
        "\n",
        "4. **Accurate Prior Estimation:**  \n",
        "   Class priors (P(Class)) are assumed to be **representative** of the true class distribution in the data.\n"
      ],
      "metadata": {
        "id": "Uv5qvBJV_yoe"
      }
    },
    {
      "cell_type": "markdown",
      "source": [
        "**17. What are the advantages and disadvantages of Naïve Bayes?**\n",
        "- #Advantages and  Disadvantages of Naïve Bayes\n",
        "\n",
        "###  Advantages:\n",
        "1. **Simple and Fast:** Easy to implement and works well with large datasets.  \n",
        "2. **Performs Well with Small Data:** Effective even with limited training data.  \n",
        "3. **Handles Irrelevant Features:** Irrelevant features don’t affect performance much.  \n",
        "4. **Works Well for Text Classification:** Commonly used in spam detection, sentiment analysis, etc.  \n",
        "5. **Less Training Data Needed:** Estimates parameters efficiently using probabilities.\n",
        "\n",
        "###  Disadvantages:\n",
        "1. **Strong Independence Assumption:** Real-world data often violates feature independence.  \n",
        "2. **Zero Probability Issue:** If a category is missing in training data, probability becomes zero.  \n",
        "3. **Poor for Correlated Features:** Performs badly when features are dependent.  \n",
        "4. **Less Accurate Than Complex Models:** Simplicity limits its performance on complex datasets.\n"
      ],
      "metadata": {
        "id": "5m_0gTU6As5F"
      }
    },
    {
      "cell_type": "markdown",
      "source": [
        "**18. Why is Naïve Bayes a good choice for text classification**\n",
        "- # Why Naïve Bayes is a Good Choice for Text Classification\n",
        "\n",
        "1. **High Dimensional Data Handling:**  \n",
        "   Works efficiently with thousands of text features (like words or tokens).\n",
        "\n",
        "2. **Feature Independence Fits Text Data:**  \n",
        "   Word occurrences in documents are often treated as independent, matching the Naïve Bayes assumption.\n",
        "\n",
        "3. **Fast and Scalable:**  \n",
        "   Trains and predicts quickly, even on large text datasets.\n",
        "\n",
        "4. **Effective with Small Data:**  \n",
        "   Performs well even when limited labeled text data is available.\n",
        "\n",
        "5. **Proven Accuracy:**  \n",
        "   Commonly used for tasks like **spam filtering**, **sentiment analysis**, and **document categorization** with strong results."
      ],
      "metadata": {
        "id": "k0ewLYlCBSPu"
      }
    },
    {
      "cell_type": "markdown",
      "source": [
        "**19. Compare SVM and Naïve Bayes for classification tasks**\n",
        "- ## ⚖️ Comparison: SVM vs Naïve Bayes\n",
        "\n",
        "| Feature / Aspect              | **SVM (Support Vector Machine)**                           | **Naïve Bayes Classifier**                                  |\n",
        "|-------------------------------|-------------------------------------------------------------|-------------------------------------------------------------|\n",
        "| **Approach**                  | Discriminative (finds decision boundary)                    | Generative (models data distribution using probabilities)   |\n",
        "| **Mathematical Basis**        | Optimization (maximizes margin)                             | Probability Theory (uses Bayes’ Theorem)                    |\n",
        "| **Handling of Features**      | Works well with correlated features                         | Assumes features are independent                            |\n",
        "| **Speed**                     | Slower to train, faster to predict                          | Very fast to train and predict                              |\n",
        "| **Performance on Small Data** | May overfit small datasets                                  | Performs well even with small datasets                      |\n",
        "| **Output**                    | Class boundary / support vectors                            | Class probabilities                                          |\n",
        "| **Use Cases**                 | Image classification, bioinformatics, high-dimensional data | Text classification, spam detection, sentiment analysis      |\n",
        "| **Interpretability**          | Harder to interpret                                         | Easy to interpret (uses probabilities)                      |\n",
        "| **Kernel Support**            | Supports kernel trick for non-linear data                   | No kernel concept (works on feature probabilities)           |\n"
      ],
      "metadata": {
        "id": "1Mtp9lDDCJSC"
      }
    },
    {
      "cell_type": "markdown",
      "source": [
        "**20.  How does Laplace Smoothing help in Naïve Bayes**\n",
        "- ## 🧮 Laplace Smoothing in Naïve Bayes\n",
        "\n",
        "### 🔹 Problem:\n",
        "When a word or feature doesn’t appear in the training data for a class,  \n",
        "its probability becomes **zero**, making the entire class probability zero.\n",
        "\n",
        "### 🔹 Solution:\n",
        "**Laplace Smoothing (Add-One Smoothing)** fixes this by adding 1 to all feature counts.\n",
        "\n",
        "### 🧠 Formula:\n",
        "P(word|class) = (count(word, class) + 1) / (total words in class + total unique words)\n",
        "\n",
        "### ✅ Benefits:\n",
        "- Prevents zero probabilities  \n",
        "- Improves model stability  \n",
        "- Ensures every feature has a small non-zero chance  \n"
      ],
      "metadata": {
        "id": "ZcZcsfd7CgX3"
      }
    },
    {
      "cell_type": "markdown",
      "source": [
        "# Practical"
      ],
      "metadata": {
        "id": "vcg8tHjHCyso"
      }
    },
    {
      "cell_type": "markdown",
      "source": [
        " Write a Python program to train an SVM Classifier on the Iris dataset and evaluate accuracy"
      ],
      "metadata": {
        "id": "0kA-qEMdDPp0"
      }
    },
    {
      "cell_type": "code",
      "source": [
        "from sklearn import datasets\n",
        "from sklearn.model_selection import train_test_split\n",
        "from sklearn.svm import SVC\n",
        "from sklearn.metrics import accuracy_score\n",
        "\n",
        "iris = datasets.load_iris()\n",
        "X = iris.data\n",
        "y = iris.target\n",
        "\n",
        "X_train, X_test, y_train, y_test = train_test_split(X, y, test_size=0.2, random_state=42)\n",
        "\n",
        "svm_model = SVC(kernel='linear', C=1.0)\n",
        "svm_model.fit(X_train, y_train)\n",
        "y_pred = svm_model.predict(X_test)\n",
        "\n",
        "accuracy = accuracy_score(y_test, y_pred)\n",
        "print(\"Accuracy of SVM Classifier:\", accuracy)\n"
      ],
      "metadata": {
        "colab": {
          "base_uri": "https://localhost:8080/"
        },
        "id": "3kfaa5UeDUF4",
        "outputId": "8f0749c4-abd3-4274-c5eb-2989f3d49251"
      },
      "execution_count": null,
      "outputs": [
        {
          "output_type": "stream",
          "name": "stdout",
          "text": [
            "Accuracy of SVM Classifier: 1.0\n"
          ]
        }
      ]
    },
    {
      "cell_type": "markdown",
      "source": [
        " Write a Python program to train two SVM classifiers with Linear and RBF kernels on the Wine dataset, then\n",
        "compare their accuracies"
      ],
      "metadata": {
        "id": "ZfqY3lsODdwi"
      }
    },
    {
      "cell_type": "code",
      "source": [
        "from sklearn import datasets\n",
        "from sklearn.model_selection import train_test_split\n",
        "from sklearn.svm import SVC\n",
        "from sklearn.metrics import accuracy_score\n",
        "\n",
        "wine = datasets.load_wine()\n",
        "X = wine.data\n",
        "y = wine.target\n",
        "\n",
        "X_train, X_test, y_train, y_test = train_test_split(X, y, test_size=0.2, random_state=42)\n",
        "\n",
        "svm_linear = SVC(kernel='linear', C=1.0)\n",
        "svm_rbf = SVC(kernel='rbf', C=1.0, gamma='scale')\n",
        "\n",
        "svm_linear.fit(X_train, y_train)\n",
        "svm_rbf.fit(X_train, y_train)\n",
        "\n",
        "y_pred_linear = svm_linear.predict(X_test)\n",
        "y_pred_rbf = svm_rbf.predict(X_test)\n",
        "\n",
        "acc_linear = accuracy_score(y_test, y_pred_linear)\n",
        "acc_rbf = accuracy_score(y_test, y_pred_rbf)\n",
        "\n",
        "print(\"Accuracy with Linear Kernel:\", acc_linear)\n",
        "print(\"Accuracy with RBF Kernel:\", acc_rbf)\n"
      ],
      "metadata": {
        "colab": {
          "base_uri": "https://localhost:8080/"
        },
        "id": "Vx85FVIBDiT-",
        "outputId": "33fb2887-2ef5-46a8-f1f1-5b3c931d306e"
      },
      "execution_count": null,
      "outputs": [
        {
          "output_type": "stream",
          "name": "stdout",
          "text": [
            "Accuracy with Linear Kernel: 1.0\n",
            "Accuracy with RBF Kernel: 0.8055555555555556\n"
          ]
        }
      ]
    },
    {
      "cell_type": "markdown",
      "source": [
        "Write a Python program to train an SVM Regressor (SVR) on a housing dataset and evaluate it using Mean\n",
        "Squared Error (MSE):\n"
      ],
      "metadata": {
        "id": "U30CXwWHDqlN"
      }
    },
    {
      "cell_type": "code",
      "source": [
        "from sklearn.datasets import fetch_california_housing\n",
        "from sklearn.model_selection import train_test_split\n",
        "from sklearn.svm import SVR\n",
        "from sklearn.metrics import mean_squared_error\n",
        "\n",
        "data = fetch_california_housing()\n",
        "X = data.data\n",
        "y = data.target\n",
        "\n",
        "X_train, X_test, y_train, y_test = train_test_split(X, y, test_size=0.2, random_state=42)\n",
        "\n",
        "svr_model = SVR(kernel='rbf', C=100, gamma=0.1, epsilon=0.1)\n",
        "svr_model.fit(X_train, y_train)\n",
        "\n",
        "y_pred = svr_model.predict(X_test)\n",
        "\n",
        "mse = mean_squared_error(y_test, y_pred)\n",
        "print(\"Mean Squared Error (MSE):\", mse)"
      ],
      "metadata": {
        "id": "Oh4PWfisENWU"
      },
      "execution_count": null,
      "outputs": []
    },
    {
      "cell_type": "markdown",
      "source": [
        "Write a Python program to train an SVM Classifier with a Polynomial Kernel and visualize the decision\n",
        "boundary"
      ],
      "metadata": {
        "id": "WZxnPMrNEQoP"
      }
    },
    {
      "cell_type": "code",
      "source": [
        "import numpy as np\n",
        "import matplotlib.pyplot as plt\n",
        "from sklearn import datasets\n",
        "from sklearn.svm import SVC\n",
        "\n",
        "X, y = datasets.make_moons(n_samples=100, noise=0.2, random_state=42)\n",
        "\n",
        "svm_poly = SVC(kernel='poly', degree=3, C=1.0)\n",
        "svm_poly.fit(X, y)\n",
        "\n",
        "x_min, x_max = X[:, 0].min() - 1, X[:, 0].max() + 1\n",
        "y_min, y_max = X[:, 1].min() - 1, X[:, 1].max() + 1\n",
        "xx, yy = np.meshgrid(np.arange(x_min, x_max, 0.01),\n",
        "                     np.arange(y_min, y_max, 0.01))\n",
        "\n",
        "Z = svm_poly.predict(np.c_[xx.ravel(), yy.ravel()])\n",
        "Z = Z.reshape(xx.shape)\n",
        "\n",
        "plt.contourf(xx, yy, Z, alpha=0.7, cmap=plt.cm.coolwarm)\n",
        "plt.scatter(X[:, 0], X[:, 1], c=y, edgecolors='k', cmap=plt.cm.coolwarm)\n",
        "plt.title(\"SVM with Polynomial Kernel (degree=3)\")\n",
        "plt.xlabel(\"Feature 1\")\n",
        "plt.ylabel(\"Feature 2\")\n",
        "plt.show()\n"
      ],
      "metadata": {
        "colab": {
          "base_uri": "https://localhost:8080/",
          "height": 472
        },
        "id": "KVL4gBRxEVqA",
        "outputId": "3db4ea29-b8bc-48b7-dc53-b77c846a05d5"
      },
      "execution_count": 1,
      "outputs": [
        {
          "output_type": "display_data",
          "data": {
            "text/plain": [
              "<Figure size 640x480 with 1 Axes>"
            ],
            "image/png": "[encoded data removed]"
          },
          "metadata": {}
        }
      ]
    },
    {
      "cell_type": "markdown",
      "source": [
        " Write a Python program to train a Gaussian Naïve Bayes classifier on the Breast Cancer dataset and\n",
        "evaluate accuracy"
      ],
      "metadata": {
        "id": "xAOGfTtREnQB"
      }
    },
    {
      "cell_type": "code",
      "source": [
        "from sklearn import datasets\n",
        "from sklearn.model_selection import train_test_split\n",
        "from sklearn.naive_bayes import GaussianNB\n",
        "from sklearn.metrics import accuracy_score\n",
        "\n",
        "data = datasets.load_breast_cancer()\n",
        "X = data.data\n",
        "y = data.target\n",
        "\n",
        "X_train, X_test, y_train, y_test = train_test_split(X, y, test_size=0.2, random_state=42)\n",
        "\n",
        "gnb = GaussianNB()\n",
        "gnb.fit(X_train, y_train)\n",
        "\n",
        "y_pred = gnb.predict(X_test)\n",
        "\n",
        "accuracy = accuracy_score(y_test, y_pred)\n",
        "print(\"Accuracy of Gaussian Naïve Bayes Classifier:\", accuracy)\n"
      ],
      "metadata": {
        "colab": {
          "base_uri": "https://localhost:8080/"
        },
        "id": "CC1QMFOAEzZ1",
        "outputId": "232ce2d0-f4a3-4e2a-be38-f2f4a80f4633"
      },
      "execution_count": 1,
      "outputs": [
        {
          "output_type": "stream",
          "name": "stdout",
          "text": [
            "Accuracy of Gaussian Naïve Bayes Classifier: 0.9736842105263158\n"
          ]
        }
      ]
    },
    {
      "cell_type": "markdown",
      "source": [
        " Write a Python program to train a Multinomial Naïve Bayes classifier for text classification using the 20\n",
        "Newsgroups dataset."
      ],
      "metadata": {
        "id": "Rfr5o95LE641"
      }
    },
    {
      "cell_type": "code",
      "source": [
        "from sklearn.datasets import fetch_20newsgroups\n",
        "from sklearn.feature_extraction.text import CountVectorizer\n",
        "from sklearn.model_selection import train_test_split\n",
        "from sklearn.naive_bayes import MultinomialNB\n",
        "from sklearn.metrics import accuracy_score\n",
        "\n",
        "data = fetch_20newsgroups(subset='all')\n",
        "X_train, X_test, y_train, y_test = train_test_split(data.data, data.target, test_size=0.2, random_state=42)\n",
        "\n",
        "vectorizer = CountVectorizer(stop_words='english')\n",
        "X_train_counts = vectorizer.fit_transform(X_train)\n",
        "X_test_counts = vectorizer.transform(X_test)\n",
        "\n",
        "mnb = MultinomialNB()\n",
        "mnb.fit(X_train_counts, y_train)\n",
        "\n",
        "y_pred = mnb.predict(X_test_counts)\n",
        "\n",
        "accuracy = accuracy_score(y_test, y_pred)\n",
        "print(\"Accuracy of Multinomial Naïve Bayes Classifier:\", accuracy)\n"
      ],
      "metadata": {
        "colab": {
          "base_uri": "https://localhost:8080/"
        },
        "id": "TL-ZSwP5E_d1",
        "outputId": "137c2ab0-72a0-42c6-8e35-4bfc592e05e2"
      },
      "execution_count": 2,
      "outputs": [
        {
          "output_type": "stream",
          "name": "stdout",
          "text": [
            "Accuracy of Multinomial Naïve Bayes Classifier: 0.8745358090185676\n"
          ]
        }
      ]
    },
    {
      "cell_type": "markdown",
      "source": [
        "Write a Python program to train an SVM Classifier with different C values and compare the decision\n",
        "boundaries visually"
      ],
      "metadata": {
        "id": "IEfPFm-UFQpu"
      }
    },
    {
      "cell_type": "code",
      "source": [
        "import numpy as np\n",
        "import matplotlib.pyplot as plt\n",
        "from sklearn import datasets\n",
        "from sklearn.svm import SVC\n",
        "\n",
        "X, y = datasets.make_blobs(n_samples=100, centers=2, random_state=6)\n",
        "\n",
        "C_values = [0.1, 1, 10]\n",
        "plt.figure(figsize=(12, 4))\n",
        "\n",
        "for i, C in enumerate(C_values):\n",
        "    svm = SVC(kernel='linear', C=C)\n",
        "    svm.fit(X, y)\n",
        "\n",
        "    plt.subplot(1, 3, i + 1)\n",
        "\n",
        "    x_min, x_max = X[:, 0].min() - 1, X[:, 0].max() + 1\n",
        "    y_min, y_max = X[:, 1].min() - 1, X[:, 1].max() + 1\n",
        "    xx, yy = np.meshgrid(np.linspace(x_min, x_max, 200),\n",
        "                         np.linspace(y_min, y_max, 200))\n",
        "\n",
        "    Z = svm.predict(np.c_[xx.ravel(), yy.ravel()])\n",
        "    Z = Z.reshape(xx.shape)\n",
        "\n",
        "    plt.contourf(xx, yy, Z, alpha=0.3, cmap=plt.cm.coolwarm)\n",
        "    plt.scatter(X[:, 0], X[:, 1], c=y, edgecolors='k', cmap=plt.cm.coolwarm)\n",
        "    plt.title(f\"SVM Decision Boundary (C={C})\")\n",
        "    plt.xlabel(\"Feature 1\")\n",
        "    plt.ylabel(\"Feature 2\")\n",
        "\n",
        "plt.tight_layout()\n",
        "plt.show()\n"
      ],
      "metadata": {
        "colab": {
          "base_uri": "https://localhost:8080/",
          "height": 407
        },
        "id": "LyeC9VcAFRiU",
        "outputId": "4dce7fd1-c3a4-4e9c-be2d-627470c4af80"
      },
      "execution_count": 3,
      "outputs": [
        {
          "output_type": "display_data",
          "data": {
            "text/plain": [
              "<Figure size 1200x400 with 3 Axes>"
            ],
            "image/png": "[encoded data removed]"
          },
          "metadata": {}
        }
      ]
    },
    {
      "cell_type": "markdown",
      "source": [
        "Write a Python program to train a Bernoulli Naïve Bayes classifier for binary classification on a dataset with\n",
        "binary features"
      ],
      "metadata": {
        "id": "Ra8rVIT9FZ9h"
      }
    },
    {
      "cell_type": "code",
      "source": [
        "import numpy as np\n",
        "from sklearn.naive_bayes import BernoulliNB\n",
        "from sklearn.model_selection import train_test_split\n",
        "from sklearn.metrics import accuracy_score\n",
        "\n",
        "np.random.seed(42)\n",
        "X = np.random.randint(2, size=(100, 10))\n",
        "y = np.random.randint(2, size=100)\n",
        "\n",
        "X_train, X_test, y_train, y_test = train_test_split(X, y, test_size=0.2, random_state=42)\n",
        "\n",
        "bnb = BernoulliNB()\n",
        "bnb.fit(X_train, y_train)\n",
        "\n",
        "y_pred = bnb.predict(X_test)\n",
        "\n",
        "accuracy = accuracy_score(y_test, y_pred)\n",
        "print(\"Accuracy of Bernoulli Naïve Bayes Classifier:\", accuracy)\n"
      ],
      "metadata": {
        "colab": {
          "base_uri": "https://localhost:8080/"
        },
        "id": "H_xGkmu3FfrN",
        "outputId": "5a771fc5-83a5-4e67-b08e-c23fba1d7ec7"
      },
      "execution_count": 4,
      "outputs": [
        {
          "output_type": "stream",
          "name": "stdout",
          "text": [
            "Accuracy of Bernoulli Naïve Bayes Classifier: 0.5\n"
          ]
        }
      ]
    },
    {
      "cell_type": "markdown",
      "source": [
        " Write a Python program to apply feature scaling before training an SVM model and compare results with\n",
        "unscaled data"
      ],
      "metadata": {
        "id": "nJbZ5rZxFnO9"
      }
    },
    {
      "cell_type": "code",
      "source": [
        "from sklearn import datasets\n",
        "from sklearn.model_selection import train_test_split\n",
        "from sklearn.preprocessing import StandardScaler\n",
        "from sklearn.svm import SVC\n",
        "from sklearn.metrics import accuracy_score\n",
        "\n",
        "data = datasets.load_wine()\n",
        "X = data.data\n",
        "y = data.target\n",
        "\n",
        "X_train, X_test, y_train, y_test = train_test_split(X, y, test_size=0.2, random_state=42)\n",
        "\n",
        "svm_unscaled = SVC(kernel='rbf', C=1.0, gamma='scale')\n",
        "svm_unscaled.fit(X_train, y_train)\n",
        "y_pred_unscaled = svm_unscaled.predict(X_test)\n",
        "acc_unscaled = accuracy_score(y_test, y_pred_unscaled)\n",
        "\n",
        "scaler = StandardScaler()\n",
        "X_train_scaled = scaler.fit_transform(X_train)\n",
        "X_test_scaled = scaler.transform(X_test)\n",
        "\n",
        "svm_scaled = SVC(kernel='rbf', C=1.0, gamma='scale')\n",
        "svm_scaled.fit(X_train_scaled, y_train)\n",
        "y_pred_scaled = svm_scaled.predict(X_test_scaled)\n",
        "acc_scaled = accuracy_score(y_test, y_pred_scaled)\n",
        "\n",
        "print(\"Accuracy without Feature Scaling:\", acc_unscaled)\n",
        "print(\"Accuracy with Feature Scaling:\", acc_scaled)\n"
      ],
      "metadata": {
        "colab": {
          "base_uri": "https://localhost:8080/"
        },
        "id": "lYibNKXqFsi1",
        "outputId": "e29b68ec-d08c-4594-e5c6-ab694c972cd1"
      },
      "execution_count": 6,
      "outputs": [
        {
          "output_type": "stream",
          "name": "stdout",
          "text": [
            "Accuracy without Feature Scaling: 0.8055555555555556\n",
            "Accuracy with Feature Scaling: 1.0\n"
          ]
        }
      ]
    },
    {
      "cell_type": "markdown",
      "source": [
        "Write a Python program to train a Gaussian Naïve Bayes model and compare the predictions before and\n",
        "after Laplace Smoothing"
      ],
      "metadata": {
        "id": "3Mt6ji2PF1H6"
      }
    },
    {
      "cell_type": "code",
      "source": [
        "import numpy as np\n",
        "from sklearn.naive_bayes import GaussianNB\n",
        "from sklearn.model_selection import train_test_split\n",
        "from sklearn.datasets import load_iris\n",
        "from sklearn.metrics import accuracy_score\n",
        "\n",
        "data = load_iris()\n",
        "X = data.data\n",
        "y = data.target\n",
        "\n",
        "X_train, X_test, y_train, y_test = train_test_split(X, y, test_size=0.2, random_state=42)\n",
        "\n",
        "gnb_no_smoothing = GaussianNB(var_smoothing=1e-9)\n",
        "gnb_no_smoothing.fit(X_train, y_train)\n",
        "y_pred_no_smoothing = gnb_no_smoothing.predict(X_test)\n",
        "acc_no_smoothing = accuracy_score(y_test, y_pred_no_smoothing)\n",
        "\n",
        "gnb_with_smoothing = GaussianNB(var_smoothing=1e-2)\n",
        "gnb_with_smoothing.fit(X_train, y_train)\n",
        "y_pred_with_smoothing = gnb_with_smoothing.predict(X_test)\n",
        "acc_with_smoothing = accuracy_score(y_test, y_pred_with_smoothing)\n",
        "\n",
        "print(\"Accuracy without Laplace Smoothing:\", acc_no_smoothing)\n",
        "print(\"Accuracy with Laplace Smoothing:\", acc_with_smoothing)\n",
        "\n"
      ],
      "metadata": {
        "colab": {
          "base_uri": "https://localhost:8080/"
        },
        "id": "jyEq_lOoF_N5",
        "outputId": "f9541ade-ac90-473f-aabf-29ad1d997f6d"
      },
      "execution_count": 7,
      "outputs": [
        {
          "output_type": "stream",
          "name": "stdout",
          "text": [
            "Accuracy without Laplace Smoothing: 1.0\n",
            "Accuracy with Laplace Smoothing: 1.0\n"
          ]
        }
      ]
    },
    {
      "cell_type": "markdown",
      "source": [
        " Write a Python program to train an SVM Classifier and use GridSearchCV to tune the hyperparameters (C,\n",
        "gamma, kernel)"
      ],
      "metadata": {
        "id": "RE9X2eP9GHT2"
      }
    },
    {
      "cell_type": "code",
      "source": [
        "from sklearn import datasets\n",
        "from sklearn.model_selection import train_test_split, GridSearchCV\n",
        "from sklearn.svm import SVC\n",
        "from sklearn.metrics import accuracy_score\n",
        "\n",
        "data = datasets.load_iris()\n",
        "X = data.data\n",
        "y = data.target\n",
        "\n",
        "X_train, X_test, y_train, y_test = train_test_split(X, y, test_size=0.2, random_state=42)\n",
        "\n",
        "param_grid = {\n",
        "    'C': [0.1, 1, 10],\n",
        "    'gamma': [0.001, 0.01, 0.1, 1],\n",
        "    'kernel': ['linear', 'rbf', 'poly']\n",
        "}\n",
        "\n",
        "grid_search = GridSearchCV(SVC(), param_grid, cv=5, scoring='accuracy')\n",
        "grid_search.fit(X_train, y_train)\n",
        "\n",
        "best_model = grid_search.best_estimator_\n",
        "\n",
        "y_pred = best_model.predict(X_test)\n",
        "accuracy = accuracy_score(y_test, y_pred)\n",
        "\n",
        "print(\"Best Parameters:\", grid_search.best_params_)\n",
        "print(\"Accuracy with Best Parameters:\", accuracy)\n"
      ],
      "metadata": {
        "colab": {
          "base_uri": "https://localhost:8080/"
        },
        "id": "4EOomzBAGMMJ",
        "outputId": "c4483a08-232f-4d8e-b809-89f17e530f10"
      },
      "execution_count": 8,
      "outputs": [
        {
          "output_type": "stream",
          "name": "stdout",
          "text": [
            "Best Parameters: {'C': 0.1, 'gamma': 0.1, 'kernel': 'poly'}\n",
            "Accuracy with Best Parameters: 1.0\n"
          ]
        }
      ]
    },
    {
      "cell_type": "markdown",
      "source": [
        "Write a Python program to train an SVM Classifier on an imbalanced dataset and apply class weighting and\n",
        "check it improve accuracy"
      ],
      "metadata": {
        "id": "0Cpeht4NGTs3"
      }
    },
    {
      "cell_type": "code",
      "source": [
        "from sklearn.datasets import make_classification\n",
        "from sklearn.model_selection import train_test_split\n",
        "from sklearn.svm import SVC\n",
        "from sklearn.metrics import accuracy_score, classification_report\n",
        "\n",
        "X, y = make_classification(n_samples=1000, n_features=10, n_informative=5,\n",
        "                           n_redundant=2, weights=[0.9, 0.1], random_state=42)\n",
        "\n",
        "X_train, X_test, y_train, y_test = train_test_split(X, y, test_size=0.2, random_state=42)\n",
        "\n",
        "svm_unbalanced = SVC(kernel='rbf', C=1.0, gamma='scale')\n",
        "svm_unbalanced.fit(X_train, y_train)\n",
        "y_pred_unbalanced = svm_unbalanced.predict(X_test)\n",
        "acc_unbalanced = accuracy_score(y_test, y_pred_unbalanced)\n",
        "\n",
        "svm_weighted = SVC(kernel='rbf', C=1.0, gamma='scale', class_weight='balanced')\n",
        "svm_weighted.fit(X_train, y_train)\n",
        "y_pred_weighted = svm_weighted.predict(X_test)\n",
        "acc_weighted = accuracy_score(y_test, y_pred_weighted)\n",
        "\n",
        "print(\"Accuracy without Class Weights:\", acc_unbalanced)\n",
        "print(\"Accuracy with Class Weights:\", acc_weighted)\n",
        "print(\"\\nClassification Report with Class Weights:\\n\", classification_report(y_test, y_pred_weighted))\n"
      ],
      "metadata": {
        "colab": {
          "base_uri": "https://localhost:8080/"
        },
        "id": "Vy38oMVuGjps",
        "outputId": "95cd7509-4396-4b50-e9e9-5a9c9f8f00d6"
      },
      "execution_count": 9,
      "outputs": [
        {
          "output_type": "stream",
          "name": "stdout",
          "text": [
            "Accuracy without Class Weights: 0.945\n",
            "Accuracy with Class Weights: 0.935\n",
            "\n",
            "Classification Report with Class Weights:\n",
            "               precision    recall  f1-score   support\n",
            "\n",
            "           0       0.98      0.94      0.96       179\n",
            "           1       0.64      0.86      0.73        21\n",
            "\n",
            "    accuracy                           0.94       200\n",
            "   macro avg       0.81      0.90      0.85       200\n",
            "weighted avg       0.95      0.94      0.94       200\n",
            "\n"
          ]
        }
      ]
    },
    {
      "cell_type": "markdown",
      "source": [
        "Write a Python program to implement a Naïve Bayes classifier for spam detection using email data"
      ],
      "metadata": {
        "id": "yyc2n6qwGoDC"
      }
    },
    {
      "cell_type": "code",
      "source": [
        "from sklearn.model_selection import train_test_split\n",
        "from sklearn.feature_extraction.text import CountVectorizer\n",
        "from sklearn.naive_bayes import MultinomialNB\n",
        "from sklearn.metrics import accuracy_score\n",
        "\n",
        "emails = [\n",
        "    \"Win a free iPhone now\", \"Congratulations! You have won cash prize\",\n",
        "    \"Meeting scheduled at 10 AM\", \"Project deadline is tomorrow\",\n",
        "    \"Exclusive offer just for you\", \"Please find the attached report\",\n",
        "    \"Claim your reward now\", \"Let's discuss the quarterly review\"\n",
        "]\n",
        "\n",
        "labels = [1, 1, 0, 0, 1, 0, 1, 0]\n",
        "\n",
        "X_train, X_test, y_train, y_test = train_test_split(emails, labels, test_size=0.25, random_state=42)\n",
        "\n",
        "vectorizer = CountVectorizer()\n",
        "X_train_counts = vectorizer.fit_transform(X_train)\n",
        "X_test_counts = vectorizer.transform(X_test)\n",
        "\n",
        "nb = MultinomialNB()\n",
        "nb.fit(X_train_counts, y_train)\n",
        "\n",
        "y_pred = nb.predict(X_test_counts)\n",
        "\n",
        "accuracy = accuracy_score(y_test, y_pred)\n",
        "print(\"Accuracy of Naïve Bayes Spam Detector:\", accuracy)\n",
        "\n",
        "sample = [\"You won a free vacation!\"]\n",
        "sample_counts = vectorizer.transform(sample)\n",
        "print(\"Prediction for sample message:\", nb.predict(sample_counts)[0])\n"
      ],
      "metadata": {
        "colab": {
          "base_uri": "https://localhost:8080/"
        },
        "id": "L9WTMBIUGwkM",
        "outputId": "7b28fca8-c5a8-4e39-f7ae-2212f9df6d45"
      },
      "execution_count": 10,
      "outputs": [
        {
          "output_type": "stream",
          "name": "stdout",
          "text": [
            "Accuracy of Naïve Bayes Spam Detector: 1.0\n",
            "Prediction for sample message: 1\n"
          ]
        }
      ]
    },
    {
      "cell_type": "markdown",
      "source": [
        " Write a Python program to train an SVM Classifier and a Naïve Bayes Classifier on the same dataset and\n",
        "compare their accuracy\n"
      ],
      "metadata": {
        "id": "yh35zLwPG8j7"
      }
    },
    {
      "cell_type": "code",
      "source": [
        "from sklearn import datasets\n",
        "from sklearn.model_selection import train_test_split\n",
        "from sklearn.svm import SVC\n",
        "from sklearn.naive_bayes import GaussianNB\n",
        "from sklearn.metrics import accuracy_score\n",
        "\n",
        "data = datasets.load_iris()\n",
        "X = data.data\n",
        "y = data.target\n",
        "\n",
        "X_train, X_test, y_train, y_test = train_test_split(X, y, test_size=0.2, random_state=42)\n",
        "\n",
        "svm_model = SVC(kernel='rbf', C=1.0, gamma='scale')\n",
        "svm_model.fit(X_train, y_train)\n",
        "y_pred_svm = svm_model.predict(X_test)\n",
        "acc_svm = accuracy_score(y_test, y_pred_svm)\n",
        "\n",
        "nb_model = GaussianNB()\n",
        "nb_model.fit(X_train, y_train)\n",
        "y_pred_nb = nb_model.predict(X_test)\n",
        "acc_nb = accuracy_score(y_test, y_pred_nb)\n",
        "\n",
        "print(\"Accuracy of SVM Classifier:\", acc_svm)\n",
        "print(\"Accuracy of Naïve Bayes Classifier:\", acc_nb)\n"
      ],
      "metadata": {
        "colab": {
          "base_uri": "https://localhost:8080/"
        },
        "id": "9sbOlGeLHBmd",
        "outputId": "466ffcb1-bc6d-440b-e28d-0ea34a6cadcf"
      },
      "execution_count": 11,
      "outputs": [
        {
          "output_type": "stream",
          "name": "stdout",
          "text": [
            "Accuracy of SVM Classifier: 1.0\n",
            "Accuracy of Naïve Bayes Classifier: 1.0\n"
          ]
        }
      ]
    },
    {
      "cell_type": "markdown",
      "source": [
        "Write a Python program to perform feature selection before training a Naïve Bayes classifier and compare\n",
        "results"
      ],
      "metadata": {
        "id": "wo3yRSSJHJZG"
      }
    },
    {
      "cell_type": "code",
      "source": [
        "from sklearn import datasets\n",
        "from sklearn.model_selection import train_test_split\n",
        "from sklearn.naive_bayes import GaussianNB\n",
        "from sklearn.metrics import accuracy_score\n",
        "from sklearn.feature_selection import SelectKBest, f_classif\n",
        "\n",
        "data = datasets.load_wine()\n",
        "X = data.data\n",
        "y = data.target\n",
        "\n",
        "X_train, X_test, y_train, y_test = train_test_split(X, y, test_size=0.2, random_state=42)\n",
        "\n",
        "nb_full = GaussianNB()\n",
        "nb_full.fit(X_train, y_train)\n",
        "y_pred_full = nb_full.predict(X_test)\n",
        "acc_full = accuracy_score(y_test, y_pred_full)\n",
        "\n",
        "selector = SelectKBest(score_func=f_classif, k=5)\n",
        "X_train_selected = selector.fit_transform(X_train, y_train)\n",
        "X_test_selected = selector.transform(X_test)\n",
        "\n",
        "nb_selected = GaussianNB()\n",
        "nb_selected.fit(X_train_selected, y_train)\n",
        "y_pred_selected = nb_selected.predict(X_test_selected)\n",
        "acc_selected = accuracy_score(y_test, y_pred_selected)\n",
        "\n",
        "print(\"Accuracy without Feature Selection:\", acc_full)\n",
        "print(\"Accuracy with Feature Selection:\", acc_selected)\n"
      ],
      "metadata": {
        "colab": {
          "base_uri": "https://localhost:8080/"
        },
        "id": "bo4rqWmMHOX4",
        "outputId": "3856d675-6c55-4538-a4f5-201a4dda519f"
      },
      "execution_count": 12,
      "outputs": [
        {
          "output_type": "stream",
          "name": "stdout",
          "text": [
            "Accuracy without Feature Selection: 1.0\n",
            "Accuracy with Feature Selection: 0.9444444444444444\n"
          ]
        }
      ]
    },
    {
      "cell_type": "markdown",
      "source": [
        "Write a Python program to train an SVM Classifier using One-vs-Rest (OvR) and One-vs-One (OvO)\n",
        "strategies on the Wine dataset and compare their accuracy"
      ],
      "metadata": {
        "id": "5FQLU9v_HYer"
      }
    },
    {
      "cell_type": "code",
      "source": [
        "from sklearn import datasets\n",
        "from sklearn.model_selection import train_test_split\n",
        "from sklearn.svm import SVC\n",
        "from sklearn.multiclass import OneVsRestClassifier, OneVsOneClassifier\n",
        "from sklearn.metrics import accuracy_score\n",
        "\n",
        "data = datasets.load_wine()\n",
        "X = data.data\n",
        "y = data.target\n",
        "\n",
        "X_train, X_test, y_train, y_test = train_test_split(X, y, test_size=0.2, random_state=42)\n",
        "\n",
        "ovr_model = OneVsRestClassifier(SVC(kernel='linear', C=1.0))\n",
        "ovr_model.fit(X_train, y_train)\n",
        "y_pred_ovr = ovr_model.predict(X_test)\n",
        "acc_ovr = accuracy_score(y_test, y_pred_ovr)\n",
        "\n",
        "ovo_model = OneVsOneClassifier(SVC(kernel='linear', C=1.0))\n",
        "ovo_model.fit(X_train, y_train)\n",
        "y_pred_ovo = ovo_model.predict(X_test)\n",
        "acc_ovo = accuracy_score(y_test, y_pred_ovo)\n",
        "\n",
        "print(\"Accuracy using One-vs-Rest (OvR):\", acc_ovr)\n",
        "print(\"Accuracy using One-vs-One (OvO):\", acc_ovo)\n"
      ],
      "metadata": {
        "colab": {
          "base_uri": "https://localhost:8080/"
        },
        "id": "zL1SiPt9Hz-b",
        "outputId": "295f9b89-cd06-458c-ee45-1711e50f5235"
      },
      "execution_count": 13,
      "outputs": [
        {
          "output_type": "stream",
          "name": "stdout",
          "text": [
            "Accuracy using One-vs-Rest (OvR): 1.0\n",
            "Accuracy using One-vs-One (OvO): 1.0\n"
          ]
        }
      ]
    },
    {
      "cell_type": "markdown",
      "source": [
        "Write a Python program to train an SVM Classifier using Linear, Polynomial, and RBF kernels on the Breast\n",
        "Cancer dataset and compare their accuracy\n"
      ],
      "metadata": {
        "id": "qQtGNJyAH3SU"
      }
    },
    {
      "cell_type": "code",
      "source": [
        "from sklearn import datasets\n",
        "from sklearn.model_selection import train_test_split\n",
        "from sklearn.svm import SVC\n",
        "from sklearn.metrics import accuracy_score\n",
        "\n",
        "data = datasets.load_breast_cancer()\n",
        "X = data.data\n",
        "y = data.target\n",
        "\n",
        "X_train, X_test, y_train, y_test = train_test_split(X, y, test_size=0.2, random_state=42)\n",
        "\n",
        "svm_linear = SVC(kernel='linear', C=1.0)\n",
        "svm_poly = SVC(kernel='poly', degree=3, C=1.0)\n",
        "svm_rbf = SVC(kernel='rbf', C=1.0, gamma='scale')\n",
        "\n",
        "svm_linear.fit(X_train, y_train)\n",
        "svm_poly.fit(X_train, y_train)\n",
        "svm_rbf.fit(X_train, y_train)\n",
        "\n",
        "y_pred_linear = svm_linear.predict(X_test)\n",
        "y_pred_poly = svm_poly.predict(X_test)\n",
        "y_pred_rbf = svm_rbf.predict(X_test)\n",
        "\n",
        "acc_linear = accuracy_score(y_test, y_pred_linear)\n",
        "acc_poly = accuracy_score(y_test, y_pred_poly)\n",
        "acc_rbf = accuracy_score(y_test, y_pred_rbf)\n",
        "\n",
        "print(\"Accuracy with Linear Kernel:\", acc_linear)\n",
        "print(\"Accuracy with Polynomial Kernel:\", acc_poly)\n",
        "print(\"Accuracy with RBF Kernel:\", acc_rbf)\n"
      ],
      "metadata": {
        "colab": {
          "base_uri": "https://localhost:8080/"
        },
        "id": "64ElSM-qIc1h",
        "outputId": "990865f6-f876-4c3e-d383-9aea78e8ec21"
      },
      "execution_count": 14,
      "outputs": [
        {
          "output_type": "stream",
          "name": "stdout",
          "text": [
            "Accuracy with Linear Kernel: 0.956140350877193\n",
            "Accuracy with Polynomial Kernel: 0.9473684210526315\n",
            "Accuracy with RBF Kernel: 0.9473684210526315\n"
          ]
        }
      ]
    },
    {
      "cell_type": "markdown",
      "source": [
        "Write a Python program to train an SVM Classifier using Stratified K-Fold Cross-Validation and compute the\n",
        "average accuracy"
      ],
      "metadata": {
        "id": "w7SeKv8yM2WE"
      }
    },
    {
      "cell_type": "code",
      "source": [
        "from sklearn import datasets\n",
        "from sklearn.model_selection import StratifiedKFold, cross_val_score\n",
        "from sklearn.svm import SVC\n",
        "import numpy as np\n",
        "\n",
        "data = datasets.load_iris()\n",
        "X = data.data\n",
        "y = data.target\n",
        "\n",
        "svm_model = SVC(kernel='rbf', C=1.0, gamma='scale')\n",
        "\n",
        "skf = StratifiedKFold(n_splits=5, shuffle=True, random_state=42)\n",
        "\n",
        "scores = cross_val_score(svm_model, X, y, cv=skf, scoring='accuracy')\n",
        "\n",
        "print(\"Accuracy for each fold:\", scores)\n",
        "print(\"Average Accuracy:\", np.mean(scores))\n",
        "\n"
      ],
      "metadata": {
        "colab": {
          "base_uri": "https://localhost:8080/"
        },
        "id": "mLsI01m1M-Gt",
        "outputId": "5ce76b23-ad73-48f8-a35d-f3503438b890"
      },
      "execution_count": 15,
      "outputs": [
        {
          "output_type": "stream",
          "name": "stdout",
          "text": [
            "Accuracy for each fold: [1.         0.96666667 0.93333333 1.         0.93333333]\n",
            "Average Accuracy: 0.9666666666666668\n"
          ]
        }
      ]
    },
    {
      "cell_type": "markdown",
      "source": [
        "Write a Python program to train a Naïve Bayes classifier using different prior probabilities and compare\n",
        "performance\n"
      ],
      "metadata": {
        "id": "XsSuxaKNNF_m"
      }
    },
    {
      "cell_type": "code",
      "source": [
        "from sklearn import datasets\n",
        "from sklearn.model_selection import train_test_split\n",
        "from sklearn.naive_bayes import GaussianNB\n",
        "from sklearn.metrics import accuracy_score\n",
        "\n",
        "data = datasets.load_iris()\n",
        "X = data.data\n",
        "y = data.target\n",
        "\n",
        "X_train, X_test, y_train, y_test = train_test_split(X, y, test_size=0.2, random_state=42)\n",
        "\n",
        "nb_default = GaussianNB()\n",
        "nb_default.fit(X_train, y_train)\n",
        "y_pred_default = nb_default.predict(X_test)\n",
        "acc_default = accuracy_score(y_test, y_pred_default)\n",
        "\n",
        "priors = [0.2, 0.3, 0.5]\n",
        "nb_custom = GaussianNB(priors=priors)\n",
        "nb_custom.fit(X_train, y_train)\n",
        "y_pred_custom = nb_custom.predict(X_test)\n",
        "acc_custom = accuracy_score(y_test, y_pred_custom)\n",
        "\n",
        "print(\"Accuracy with Default Priors:\", acc_default)\n",
        "print(\"Accuracy with Custom Priors:\", acc_custom)\n"
      ],
      "metadata": {
        "colab": {
          "base_uri": "https://localhost:8080/"
        },
        "id": "veh9emSiNI69",
        "outputId": "55b9383a-1ef1-4350-bee6-5fa09867958e"
      },
      "execution_count": 16,
      "outputs": [
        {
          "output_type": "stream",
          "name": "stdout",
          "text": [
            "Accuracy with Default Priors: 1.0\n",
            "Accuracy with Custom Priors: 0.9666666666666667\n"
          ]
        }
      ]
    },
    {
      "cell_type": "markdown",
      "source": [
        "Write a Python program to perform Recursive Feature Elimination (RFE) before training an SVM Classifier and\n",
        "compare accuracy"
      ],
      "metadata": {
        "id": "ono9tUOnNYhP"
      }
    },
    {
      "cell_type": "code",
      "source": [
        "from sklearn import datasets\n",
        "from sklearn.model_selection import train_test_split\n",
        "from sklearn.svm import SVC\n",
        "from sklearn.metrics import accuracy_score\n",
        "from sklearn.feature_selection import RFE\n",
        "\n",
        "data = datasets.load_wine()\n",
        "X = data.data\n",
        "y = data.target\n",
        "\n",
        "X_train, X_test, y_train, y_test = train_test_split(X, y, test_size=0.2, random_state=42)\n",
        "\n",
        "svm_full = SVC(kernel='linear', C=1.0)\n",
        "svm_full.fit(X_train, y_train)\n",
        "y_pred_full = svm_full.predict(X_test)\n",
        "acc_full = accuracy_score(y_test, y_pred_full)\n",
        "\n",
        "rfe = RFE(estimator=SVC(kernel='linear'), n_features_to_select=5)\n",
        "rfe.fit(X_train, y_train)\n",
        "X_train_rfe = rfe.transform(X_train)\n",
        "X_test_rfe = rfe.transform(X_test)\n",
        "\n",
        "svm_rfe = SVC(kernel='linear', C=1.0)\n",
        "svm_rfe.fit(X_train_rfe, y_train)\n",
        "y_pred_rfe = svm_rfe.predict(X_test_rfe)\n",
        "acc_rfe = accuracy_score(y_test, y_pred_rfe)\n",
        "\n",
        "print(\"Accuracy without RFE:\", acc_full)\n",
        "print(\"Accuracy with RFE:\", acc_rfe)\n"
      ],
      "metadata": {
        "colab": {
          "base_uri": "https://localhost:8080/"
        },
        "id": "q8Bhh4SHNcnI",
        "outputId": "8832d8bb-ad43-4d5f-8db3-85681286576d"
      },
      "execution_count": 17,
      "outputs": [
        {
          "output_type": "stream",
          "name": "stdout",
          "text": [
            "Accuracy without RFE: 1.0\n",
            "Accuracy with RFE: 0.9722222222222222\n"
          ]
        }
      ]
    },
    {
      "cell_type": "markdown",
      "source": [
        " Write a Python program to train an SVM Classifier and evaluate its performance using Precision, Recall, and\n",
        "F1-Score instead of accuracy"
      ],
      "metadata": {
        "id": "fbZWnXYLNljV"
      }
    },
    {
      "cell_type": "code",
      "source": [
        "from sklearn import datasets\n",
        "from sklearn.model_selection import train_test_split\n",
        "from sklearn.svm import SVC\n",
        "from sklearn.metrics import precision_score, recall_score, f1_score, classification_report\n",
        "\n",
        "# Load dataset (Iris for example)\n",
        "data = datasets.load_iris()\n",
        "X = data.data\n",
        "y = data.target\n",
        "\n",
        "# Split into train-test sets\n",
        "X_train, X_test, y_train, y_test = train_test_split(X, y, test_size=0.2, random_state=42)\n",
        "\n",
        "# Train SVM Classifier\n",
        "svm = SVC(kernel='rbf', C=1.0, gamma='scale')\n",
        "svm.fit(X_train, y_train)\n",
        "\n",
        "# Make predictions\n",
        "y_pred = svm.predict(X_test)\n",
        "\n",
        "# Evaluate using Precision, Recall, and F1-Score\n",
        "precision = precision_score(y_test, y_pred, average='weighted')\n",
        "recall = recall_score(y_test, y_pred, average='weighted')\n",
        "f1 = f1_score(y_test, y_pred, average='weighted')\n",
        "\n",
        "print(\"Precision:\", precision)\n",
        "print(\"Recall:\", recall)\n",
        "print(\"F1-Score:\", f1)\n",
        "print(\"\\nDetailed Classification Report:\\n\")\n",
        "print(classification_report(y_test, y_pred))\n"
      ],
      "metadata": {
        "colab": {
          "base_uri": "https://localhost:8080/"
        },
        "id": "RE0od0x2NqOz",
        "outputId": "c8cd2f62-fed6-47fd-98a8-d037ee19382c"
      },
      "execution_count": 18,
      "outputs": [
        {
          "output_type": "stream",
          "name": "stdout",
          "text": [
            "Precision: 1.0\n",
            "Recall: 1.0\n",
            "F1-Score: 1.0\n",
            "\n",
            "Detailed Classification Report:\n",
            "\n",
            "              precision    recall  f1-score   support\n",
            "\n",
            "           0       1.00      1.00      1.00        10\n",
            "           1       1.00      1.00      1.00         9\n",
            "           2       1.00      1.00      1.00        11\n",
            "\n",
            "    accuracy                           1.00        30\n",
            "   macro avg       1.00      1.00      1.00        30\n",
            "weighted avg       1.00      1.00      1.00        30\n",
            "\n"
          ]
        }
      ]
    },
    {
      "cell_type": "markdown",
      "source": [
        "Write a Python program to train a Naïve Bayes Classifier and evaluate its performance using Log Loss\n"
      ],
      "metadata": {
        "id": "QZVZGRnINxci"
      }
    },
    {
      "cell_type": "code",
      "source": [
        "from sklearn.datasets import load_breast_cancer\n",
        "from sklearn.model_selection import train_test_split\n",
        "from sklearn.naive_bayes import GaussianNB\n",
        "from sklearn.metrics import log_loss\n",
        "\n",
        "# Load dataset\n",
        "data = load_breast_cancer()\n",
        "X = data.data\n",
        "y = data.target\n",
        "\n",
        "# Split into train-test sets\n",
        "X_train, X_test, y_train, y_test = train_test_split(X, y, test_size=0.2, random_state=42)\n",
        "\n",
        "# Train Gaussian Naïve Bayes Classifier\n",
        "nb = GaussianNB()\n",
        "nb.fit(X_train, y_train)\n",
        "\n",
        "# Predict probabilities\n",
        "y_prob = nb.predict_proba(X_test)\n",
        "\n",
        "# Calculate Log Loss\n",
        "loss = log_loss(y_test, y_prob)\n",
        "\n",
        "print(\"Log Loss:\", loss)\n"
      ],
      "metadata": {
        "colab": {
          "base_uri": "https://localhost:8080/"
        },
        "id": "2dBMvJsZN2dQ",
        "outputId": "7d0ac8f6-3ee6-4596-e6b5-860393d7eeb5"
      },
      "execution_count": 19,
      "outputs": [
        {
          "output_type": "stream",
          "name": "stdout",
          "text": [
            "Log Loss: 0.2037342715214191\n"
          ]
        }
      ]
    },
    {
      "cell_type": "markdown",
      "source": [
        "Write a Python program to train an SVM Classifier and visualize the Confusion Matrix using seaborn"
      ],
      "metadata": {
        "id": "NS28NmzjN8ns"
      }
    },
    {
      "cell_type": "code",
      "source": [
        "import seaborn as sns\n",
        "import matplotlib.pyplot as plt\n",
        "from sklearn import datasets\n",
        "from sklearn.model_selection import train_test_split\n",
        "from sklearn.preprocessing import StandardScaler\n",
        "from sklearn.svm import SVC\n",
        "from sklearn.metrics import confusion_matrix, accuracy_score\n",
        "\n",
        "# Load dataset\n",
        "data = datasets.load_breast_cancer()\n",
        "X = data.data\n",
        "y = data.target\n",
        "\n",
        "# Split into train-test sets\n",
        "X_train, X_test, y_train, y_test = train_test_split(X, y, test_size=0.2, random_state=42)\n",
        "\n",
        "# Feature scaling\n",
        "scaler = StandardScaler()\n",
        "X_train = scaler.fit_transform(X_train)\n",
        "X_test = scaler.transform(X_test)\n",
        "\n",
        "# Train SVM Classifier\n",
        "svm = SVC(kernel='rbf', random_state=42)\n",
        "svm.fit(X_train, y_train)\n",
        "\n",
        "# Predict\n",
        "y_pred = svm.predict(X_test)\n",
        "\n",
        "# Compute confusion matrix\n",
        "cm = confusion_matrix(y_test, y_pred)\n",
        "\n",
        "# Accuracy\n",
        "print(\"Accuracy:\", accuracy_score(y_test, y_pred))\n",
        "\n",
        "# Visualize Confusion Matrix\n",
        "plt.figure(figsize=(6,4))\n",
        "sns.heatmap(cm, annot=True, fmt='d', cmap='Blues',\n",
        "            xticklabels=data.target_names,\n",
        "            yticklabels=data.target_names)\n",
        "plt.xlabel(\"Predicted Labels\")\n",
        "plt.ylabel(\"True Labels\")\n",
        "plt.title(\"Confusion Matrix - SVM Classifier\")\n",
        "plt.show()\n"
      ],
      "metadata": {
        "colab": {
          "base_uri": "https://localhost:8080/",
          "height": 427
        },
        "id": "uiALKoD-OHrM",
        "outputId": "f56722a3-0681-4dc9-daa0-62a609c2a70e"
      },
      "execution_count": 20,
      "outputs": [
        {
          "output_type": "stream",
          "name": "stdout",
          "text": [
            "Accuracy: 0.9824561403508771\n"
          ]
        },
        {
          "output_type": "display_data",
          "data": {
            "text/plain": [
              "<Figure size 600x400 with 2 Axes>"
            ],
            "image/png": "[encoded data removed]"
          },
          "metadata": {}
        }
      ]
    },
    {
      "cell_type": "markdown",
      "source": [
        "Write a Python program to train an SVM Regressor (SVR) and evaluate its performance using Mean Absolute\n",
        "Error (MAE) instead of MSE=\n"
      ],
      "metadata": {
        "id": "1N5mZd7KOKhQ"
      }
    },
    {
      "cell_type": "code",
      "source": [
        "from sklearn import datasets\n",
        "from sklearn.model_selection import train_test_split\n",
        "from sklearn.preprocessing import StandardScaler\n",
        "from sklearn.svm import SVR\n",
        "from sklearn.metrics import mean_absolute_error\n",
        "\n",
        "# Load dataset\n",
        "data = datasets.load_diabetes()\n",
        "X = data.data\n",
        "y = data.target\n",
        "\n",
        "# Split into train-test sets\n",
        "X_train, X_test, y_train, y_test = train_test_split(X, y, test_size=0.2, random_state=42)\n",
        "\n",
        "# Feature scaling\n",
        "scaler = StandardScaler()\n",
        "X_train = scaler.fit_transform(X_train)\n",
        "X_test = scaler.transform(X_test)\n",
        "\n",
        "# Train SVR model\n",
        "svr = SVR(kernel='rbf')\n",
        "svr.fit(X_train, y_train)\n",
        "\n",
        "# Predict\n",
        "y_pred = svr.predict(X_test)\n",
        "\n",
        "# Evaluate using Mean Absolute Error (MAE)\n",
        "mae = mean_absolute_error(y_test, y_pred)\n",
        "print(\"Mean Absolute Error (MAE):\", mae)\n"
      ],
      "metadata": {
        "colab": {
          "base_uri": "https://localhost:8080/"
        },
        "id": "zlyFkVMqObWB",
        "outputId": "dbf07898-6ebe-4c70-b731-cbf43029c38c"
      },
      "execution_count": 21,
      "outputs": [
        {
          "output_type": "stream",
          "name": "stdout",
          "text": [
            "Mean Absolute Error (MAE): 56.0294733040062\n"
          ]
        }
      ]
    },
    {
      "cell_type": "markdown",
      "source": [
        "Write a Python program to train a Naïve Bayes classifier and evaluate its performance using the ROC-AUC\n",
        "score="
      ],
      "metadata": {
        "id": "bdNkmCKlOi6V"
      }
    },
    {
      "cell_type": "code",
      "source": [
        "from sklearn import datasets\n",
        "from sklearn.model_selection import train_test_split\n",
        "from sklearn.naive_bayes import GaussianNB\n",
        "from sklearn.metrics import roc_auc_score\n",
        "\n",
        "# Load dataset\n",
        "data = datasets.load_breast_cancer()\n",
        "X = data.data\n",
        "y = data.target\n",
        "\n",
        "# Split into train-test sets\n",
        "X_train, X_test, y_train, y_test = train_test_split(X, y, test_size=0.2, random_state=42)\n",
        "\n",
        "# Train Gaussian Naïve Bayes model\n",
        "nb = GaussianNB()\n",
        "nb.fit(X_train, y_train)\n",
        "\n",
        "# Predict probabilities\n",
        "y_prob = nb.predict_proba(X_test)[:, 1]\n",
        "\n",
        "# Compute ROC-AUC score\n",
        "roc_auc = roc_auc_score(y_test, y_prob)\n",
        "print(\"ROC-AUC Score:\", roc_auc)\n"
      ],
      "metadata": {
        "colab": {
          "base_uri": "https://localhost:8080/"
        },
        "id": "fAI_u8h3OokA",
        "outputId": "55e4c32e-c771-444c-c134-0d9d34e7c580"
      },
      "execution_count": 22,
      "outputs": [
        {
          "output_type": "stream",
          "name": "stdout",
          "text": [
            "ROC-AUC Score: 0.9983622666229938\n"
          ]
        }
      ]
    },
    {
      "cell_type": "markdown",
      "source": [
        "Write a Python program to train an SVM Classifier and visualize the Precision-Recall Curve"
      ],
      "metadata": {
        "id": "6fziPFQpOsQs"
      }
    },
    {
      "cell_type": "code",
      "source": [
        "from sklearn import datasets\n",
        "from sklearn.model_selection import train_test_split\n",
        "from sklearn.preprocessing import StandardScaler\n",
        "from sklearn.svm import SVC\n",
        "from sklearn.metrics import precision_recall_curve, average_precision_score\n",
        "import matplotlib.pyplot as plt\n",
        "\n",
        "# Load dataset\n",
        "data = datasets.load_breast_cancer()\n",
        "X = data.data\n",
        "y = data.target\n",
        "\n",
        "# Split into train-test sets\n",
        "X_train, X_test, y_train, y_test = train_test_split(X, y, test_size=0.2, random_state=42)\n",
        "\n",
        "# Feature scaling\n",
        "scaler = StandardScaler()\n",
        "X_train = scaler.fit_transform(X_train)\n",
        "X_test = scaler.transform(X_test)\n",
        "\n",
        "# Train SVM Classifier with probability=True to get scores\n",
        "svm = SVC(kernel='rbf', probability=True, random_state=42)\n",
        "svm.fit(X_train, y_train)\n",
        "\n",
        "# Predict probabilities\n",
        "y_scores = svm.predict_proba(X_test)[:, 1]\n",
        "\n",
        "# Compute precision, recall\n",
        "precision, recall, thresholds = precision_recall_curve(y_test, y_scores)\n",
        "avg_precision = average_precision_score(y_test, y_scores)\n",
        "\n",
        "# Plot Precision-Recall Curve\n",
        "plt.figure(figsize=(6, 4))\n",
        "plt.plot(recall, precision, label=f'AP = {avg_precision:.2f}')\n",
        "plt.xlabel('Recall')\n",
        "plt.ylabel('Precision')\n",
        "plt.title('Precision-Recall Curve (SVM Classifier)')\n",
        "plt.legend()\n",
        "plt.grid(True)\n",
        "plt.show()\n"
      ],
      "metadata": {
        "colab": {
          "base_uri": "https://localhost:8080/",
          "height": 410
        },
        "id": "tvk-ExUyOwuX",
        "outputId": "d0e55dab-bf95-47f5-e4d5-7036b3d42b40"
      },
      "execution_count": 23,
      "outputs": [
        {
          "output_type": "display_data",
          "data": {
            "text/plain": [
              "<Figure size 600x400 with 1 Axes>"
            ],
            "image/png": "[encoded data removed]"
          },
          "metadata": {}
        }
      ]
    }
  ]
}